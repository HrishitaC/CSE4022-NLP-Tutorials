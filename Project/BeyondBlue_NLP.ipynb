{
  "nbformat": 4,
  "nbformat_minor": 0,
  "metadata": {
    "colab": {
      "name": "BeyondBlue_NLP.ipynb",
      "provenance": [],
      "collapsed_sections": [
        "RCAHt0RKsbfH"
      ]
    },
    "kernelspec": {
      "name": "python3",
      "display_name": "Python 3"
    }
  },
  "cells": [
    {
      "cell_type": "markdown",
      "metadata": {
        "id": "RCAHt0RKsbfH"
      },
      "source": [
        "### Data Preprocessing"
      ]
    },
    {
      "cell_type": "code",
      "metadata": {
        "id": "YHqyHhuxgb-b",
        "outputId": "7e94e435-b836-482f-f54e-963b0552b9ac",
        "colab": {
          "resources": {
            "http://localhost:8080/nbextensions/google.colab/files.js": {
              "data": "Ly8gQ29weXJpZ2h0IDIwMTcgR29vZ2xlIExMQwovLwovLyBMaWNlbnNlZCB1bmRlciB0aGUgQXBhY2hlIExpY2Vuc2UsIFZlcnNpb24gMi4wICh0aGUgIkxpY2Vuc2UiKTsKLy8geW91IG1heSBub3QgdXNlIHRoaXMgZmlsZSBleGNlcHQgaW4gY29tcGxpYW5jZSB3aXRoIHRoZSBMaWNlbnNlLgovLyBZb3UgbWF5IG9idGFpbiBhIGNvcHkgb2YgdGhlIExpY2Vuc2UgYXQKLy8KLy8gICAgICBodHRwOi8vd3d3LmFwYWNoZS5vcmcvbGljZW5zZXMvTElDRU5TRS0yLjAKLy8KLy8gVW5sZXNzIHJlcXVpcmVkIGJ5IGFwcGxpY2FibGUgbGF3IG9yIGFncmVlZCB0byBpbiB3cml0aW5nLCBzb2Z0d2FyZQovLyBkaXN0cmlidXRlZCB1bmRlciB0aGUgTGljZW5zZSBpcyBkaXN0cmlidXRlZCBvbiBhbiAiQVMgSVMiIEJBU0lTLAovLyBXSVRIT1VUIFdBUlJBTlRJRVMgT1IgQ09ORElUSU9OUyBPRiBBTlkgS0lORCwgZWl0aGVyIGV4cHJlc3Mgb3IgaW1wbGllZC4KLy8gU2VlIHRoZSBMaWNlbnNlIGZvciB0aGUgc3BlY2lmaWMgbGFuZ3VhZ2UgZ292ZXJuaW5nIHBlcm1pc3Npb25zIGFuZAovLyBsaW1pdGF0aW9ucyB1bmRlciB0aGUgTGljZW5zZS4KCi8qKgogKiBAZmlsZW92ZXJ2aWV3IEhlbHBlcnMgZm9yIGdvb2dsZS5jb2xhYiBQeXRob24gbW9kdWxlLgogKi8KKGZ1bmN0aW9uKHNjb3BlKSB7CmZ1bmN0aW9uIHNwYW4odGV4dCwgc3R5bGVBdHRyaWJ1dGVzID0ge30pIHsKICBjb25zdCBlbGVtZW50ID0gZG9jdW1lbnQuY3JlYXRlRWxlbWVudCgnc3BhbicpOwogIGVsZW1lbnQudGV4dENvbnRlbnQgPSB0ZXh0OwogIGZvciAoY29uc3Qga2V5IG9mIE9iamVjdC5rZXlzKHN0eWxlQXR0cmlidXRlcykpIHsKICAgIGVsZW1lbnQuc3R5bGVba2V5XSA9IHN0eWxlQXR0cmlidXRlc1trZXldOwogIH0KICByZXR1cm4gZWxlbWVudDsKfQoKLy8gTWF4IG51bWJlciBvZiBieXRlcyB3aGljaCB3aWxsIGJlIHVwbG9hZGVkIGF0IGEgdGltZS4KY29uc3QgTUFYX1BBWUxPQURfU0laRSA9IDEwMCAqIDEwMjQ7CgpmdW5jdGlvbiBfdXBsb2FkRmlsZXMoaW5wdXRJZCwgb3V0cHV0SWQpIHsKICBjb25zdCBzdGVwcyA9IHVwbG9hZEZpbGVzU3RlcChpbnB1dElkLCBvdXRwdXRJZCk7CiAgY29uc3Qgb3V0cHV0RWxlbWVudCA9IGRvY3VtZW50LmdldEVsZW1lbnRCeUlkKG91dHB1dElkKTsKICAvLyBDYWNoZSBzdGVwcyBvbiB0aGUgb3V0cHV0RWxlbWVudCB0byBtYWtlIGl0IGF2YWlsYWJsZSBmb3IgdGhlIG5leHQgY2FsbAogIC8vIHRvIHVwbG9hZEZpbGVzQ29udGludWUgZnJvbSBQeXRob24uCiAgb3V0cHV0RWxlbWVudC5zdGVwcyA9IHN0ZXBzOwoKICByZXR1cm4gX3VwbG9hZEZpbGVzQ29udGludWUob3V0cHV0SWQpOwp9CgovLyBUaGlzIGlzIHJvdWdobHkgYW4gYXN5bmMgZ2VuZXJhdG9yIChub3Qgc3VwcG9ydGVkIGluIHRoZSBicm93c2VyIHlldCksCi8vIHdoZXJlIHRoZXJlIGFyZSBtdWx0aXBsZSBhc3luY2hyb25vdXMgc3RlcHMgYW5kIHRoZSBQeXRob24gc2lkZSBpcyBnb2luZwovLyB0byBwb2xsIGZvciBjb21wbGV0aW9uIG9mIGVhY2ggc3RlcC4KLy8gVGhpcyB1c2VzIGEgUHJvbWlzZSB0byBibG9jayB0aGUgcHl0aG9uIHNpZGUgb24gY29tcGxldGlvbiBvZiBlYWNoIHN0ZXAsCi8vIHRoZW4gcGFzc2VzIHRoZSByZXN1bHQgb2YgdGhlIHByZXZpb3VzIHN0ZXAgYXMgdGhlIGlucHV0IHRvIHRoZSBuZXh0IHN0ZXAuCmZ1bmN0aW9uIF91cGxvYWRGaWxlc0NvbnRpbnVlKG91dHB1dElkKSB7CiAgY29uc3Qgb3V0cHV0RWxlbWVudCA9IGRvY3VtZW50LmdldEVsZW1lbnRCeUlkKG91dHB1dElkKTsKICBjb25zdCBzdGVwcyA9IG91dHB1dEVsZW1lbnQuc3RlcHM7CgogIGNvbnN0IG5leHQgPSBzdGVwcy5uZXh0KG91dHB1dEVsZW1lbnQubGFzdFByb21pc2VWYWx1ZSk7CiAgcmV0dXJuIFByb21pc2UucmVzb2x2ZShuZXh0LnZhbHVlLnByb21pc2UpLnRoZW4oKHZhbHVlKSA9PiB7CiAgICAvLyBDYWNoZSB0aGUgbGFzdCBwcm9taXNlIHZhbHVlIHRvIG1ha2UgaXQgYXZhaWxhYmxlIHRvIHRoZSBuZXh0CiAgICAvLyBzdGVwIG9mIHRoZSBnZW5lcmF0b3IuCiAgICBvdXRwdXRFbGVtZW50Lmxhc3RQcm9taXNlVmFsdWUgPSB2YWx1ZTsKICAgIHJldHVybiBuZXh0LnZhbHVlLnJlc3BvbnNlOwogIH0pOwp9CgovKioKICogR2VuZXJhdG9yIGZ1bmN0aW9uIHdoaWNoIGlzIGNhbGxlZCBiZXR3ZWVuIGVhY2ggYXN5bmMgc3RlcCBvZiB0aGUgdXBsb2FkCiAqIHByb2Nlc3MuCiAqIEBwYXJhbSB7c3RyaW5nfSBpbnB1dElkIEVsZW1lbnQgSUQgb2YgdGhlIGlucHV0IGZpbGUgcGlja2VyIGVsZW1lbnQuCiAqIEBwYXJhbSB7c3RyaW5nfSBvdXRwdXRJZCBFbGVtZW50IElEIG9mIHRoZSBvdXRwdXQgZGlzcGxheS4KICogQHJldHVybiB7IUl0ZXJhYmxlPCFPYmplY3Q+fSBJdGVyYWJsZSBvZiBuZXh0IHN0ZXBzLgogKi8KZnVuY3Rpb24qIHVwbG9hZEZpbGVzU3RlcChpbnB1dElkLCBvdXRwdXRJZCkgewogIGNvbnN0IGlucHV0RWxlbWVudCA9IGRvY3VtZW50LmdldEVsZW1lbnRCeUlkKGlucHV0SWQpOwogIGlucHV0RWxlbWVudC5kaXNhYmxlZCA9IGZhbHNlOwoKICBjb25zdCBvdXRwdXRFbGVtZW50ID0gZG9jdW1lbnQuZ2V0RWxlbWVudEJ5SWQob3V0cHV0SWQpOwogIG91dHB1dEVsZW1lbnQuaW5uZXJIVE1MID0gJyc7CgogIGNvbnN0IHBpY2tlZFByb21pc2UgPSBuZXcgUHJvbWlzZSgocmVzb2x2ZSkgPT4gewogICAgaW5wdXRFbGVtZW50LmFkZEV2ZW50TGlzdGVuZXIoJ2NoYW5nZScsIChlKSA9PiB7CiAgICAgIHJlc29sdmUoZS50YXJnZXQuZmlsZXMpOwogICAgfSk7CiAgfSk7CgogIGNvbnN0IGNhbmNlbCA9IGRvY3VtZW50LmNyZWF0ZUVsZW1lbnQoJ2J1dHRvbicpOwogIGlucHV0RWxlbWVudC5wYXJlbnRFbGVtZW50LmFwcGVuZENoaWxkKGNhbmNlbCk7CiAgY2FuY2VsLnRleHRDb250ZW50ID0gJ0NhbmNlbCB1cGxvYWQnOwogIGNvbnN0IGNhbmNlbFByb21pc2UgPSBuZXcgUHJvbWlzZSgocmVzb2x2ZSkgPT4gewogICAgY2FuY2VsLm9uY2xpY2sgPSAoKSA9PiB7CiAgICAgIHJlc29sdmUobnVsbCk7CiAgICB9OwogIH0pOwoKICAvLyBXYWl0IGZvciB0aGUgdXNlciB0byBwaWNrIHRoZSBmaWxlcy4KICBjb25zdCBmaWxlcyA9IHlpZWxkIHsKICAgIHByb21pc2U6IFByb21pc2UucmFjZShbcGlja2VkUHJvbWlzZSwgY2FuY2VsUHJvbWlzZV0pLAogICAgcmVzcG9uc2U6IHsKICAgICAgYWN0aW9uOiAnc3RhcnRpbmcnLAogICAgfQogIH07CgogIGNhbmNlbC5yZW1vdmUoKTsKCiAgLy8gRGlzYWJsZSB0aGUgaW5wdXQgZWxlbWVudCBzaW5jZSBmdXJ0aGVyIHBpY2tzIGFyZSBub3QgYWxsb3dlZC4KICBpbnB1dEVsZW1lbnQuZGlzYWJsZWQgPSB0cnVlOwoKICBpZiAoIWZpbGVzKSB7CiAgICByZXR1cm4gewogICAgICByZXNwb25zZTogewogICAgICAgIGFjdGlvbjogJ2NvbXBsZXRlJywKICAgICAgfQogICAgfTsKICB9CgogIGZvciAoY29uc3QgZmlsZSBvZiBmaWxlcykgewogICAgY29uc3QgbGkgPSBkb2N1bWVudC5jcmVhdGVFbGVtZW50KCdsaScpOwogICAgbGkuYXBwZW5kKHNwYW4oZmlsZS5uYW1lLCB7Zm9udFdlaWdodDogJ2JvbGQnfSkpOwogICAgbGkuYXBwZW5kKHNwYW4oCiAgICAgICAgYCgke2ZpbGUudHlwZSB8fCAnbi9hJ30pIC0gJHtmaWxlLnNpemV9IGJ5dGVzLCBgICsKICAgICAgICBgbGFzdCBtb2RpZmllZDogJHsKICAgICAgICAgICAgZmlsZS5sYXN0TW9kaWZpZWREYXRlID8gZmlsZS5sYXN0TW9kaWZpZWREYXRlLnRvTG9jYWxlRGF0ZVN0cmluZygpIDoKICAgICAgICAgICAgICAgICAgICAgICAgICAgICAgICAgICAgJ24vYSd9IC0gYCkpOwogICAgY29uc3QgcGVyY2VudCA9IHNwYW4oJzAlIGRvbmUnKTsKICAgIGxpLmFwcGVuZENoaWxkKHBlcmNlbnQpOwoKICAgIG91dHB1dEVsZW1lbnQuYXBwZW5kQ2hpbGQobGkpOwoKICAgIGNvbnN0IGZpbGVEYXRhUHJvbWlzZSA9IG5ldyBQcm9taXNlKChyZXNvbHZlKSA9PiB7CiAgICAgIGNvbnN0IHJlYWRlciA9IG5ldyBGaWxlUmVhZGVyKCk7CiAgICAgIHJlYWRlci5vbmxvYWQgPSAoZSkgPT4gewogICAgICAgIHJlc29sdmUoZS50YXJnZXQucmVzdWx0KTsKICAgICAgfTsKICAgICAgcmVhZGVyLnJlYWRBc0FycmF5QnVmZmVyKGZpbGUpOwogICAgfSk7CiAgICAvLyBXYWl0IGZvciB0aGUgZGF0YSB0byBiZSByZWFkeS4KICAgIGxldCBmaWxlRGF0YSA9IHlpZWxkIHsKICAgICAgcHJvbWlzZTogZmlsZURhdGFQcm9taXNlLAogICAgICByZXNwb25zZTogewogICAgICAgIGFjdGlvbjogJ2NvbnRpbnVlJywKICAgICAgfQogICAgfTsKCiAgICAvLyBVc2UgYSBjaHVua2VkIHNlbmRpbmcgdG8gYXZvaWQgbWVzc2FnZSBzaXplIGxpbWl0cy4gU2VlIGIvNjIxMTU2NjAuCiAgICBsZXQgcG9zaXRpb24gPSAwOwogICAgd2hpbGUgKHBvc2l0aW9uIDwgZmlsZURhdGEuYnl0ZUxlbmd0aCkgewogICAgICBjb25zdCBsZW5ndGggPSBNYXRoLm1pbihmaWxlRGF0YS5ieXRlTGVuZ3RoIC0gcG9zaXRpb24sIE1BWF9QQVlMT0FEX1NJWkUpOwogICAgICBjb25zdCBjaHVuayA9IG5ldyBVaW50OEFycmF5KGZpbGVEYXRhLCBwb3NpdGlvbiwgbGVuZ3RoKTsKICAgICAgcG9zaXRpb24gKz0gbGVuZ3RoOwoKICAgICAgY29uc3QgYmFzZTY0ID0gYnRvYShTdHJpbmcuZnJvbUNoYXJDb2RlLmFwcGx5KG51bGwsIGNodW5rKSk7CiAgICAgIHlpZWxkIHsKICAgICAgICByZXNwb25zZTogewogICAgICAgICAgYWN0aW9uOiAnYXBwZW5kJywKICAgICAgICAgIGZpbGU6IGZpbGUubmFtZSwKICAgICAgICAgIGRhdGE6IGJhc2U2NCwKICAgICAgICB9LAogICAgICB9OwogICAgICBwZXJjZW50LnRleHRDb250ZW50ID0KICAgICAgICAgIGAke01hdGgucm91bmQoKHBvc2l0aW9uIC8gZmlsZURhdGEuYnl0ZUxlbmd0aCkgKiAxMDApfSUgZG9uZWA7CiAgICB9CiAgfQoKICAvLyBBbGwgZG9uZS4KICB5aWVsZCB7CiAgICByZXNwb25zZTogewogICAgICBhY3Rpb246ICdjb21wbGV0ZScsCiAgICB9CiAgfTsKfQoKc2NvcGUuZ29vZ2xlID0gc2NvcGUuZ29vZ2xlIHx8IHt9OwpzY29wZS5nb29nbGUuY29sYWIgPSBzY29wZS5nb29nbGUuY29sYWIgfHwge307CnNjb3BlLmdvb2dsZS5jb2xhYi5fZmlsZXMgPSB7CiAgX3VwbG9hZEZpbGVzLAogIF91cGxvYWRGaWxlc0NvbnRpbnVlLAp9Owp9KShzZWxmKTsK",
              "ok": true,
              "headers": [
                [
                  "content-type",
                  "application/javascript"
                ]
              ],
              "status": 200,
              "status_text": ""
            }
          },
          "base_uri": "https://localhost:8080/",
          "height": 73
        }
      },
      "source": [
        "from google.colab import files\n",
        "\n",
        "uploaded = files.upload()"
      ],
      "execution_count": null,
      "outputs": [
        {
          "output_type": "display_data",
          "data": {
            "text/html": [
              "\n",
              "     <input type=\"file\" id=\"files-b525d316-252d-45a0-af1c-9e1e902068b0\" name=\"files[]\" multiple disabled\n",
              "        style=\"border:none\" />\n",
              "     <output id=\"result-b525d316-252d-45a0-af1c-9e1e902068b0\">\n",
              "      Upload widget is only available when the cell has been executed in the\n",
              "      current browser session. Please rerun this cell to enable.\n",
              "      </output>\n",
              "      <script src=\"/nbextensions/google.colab/files.js\"></script> "
            ],
            "text/plain": [
              "<IPython.core.display.HTML object>"
            ]
          },
          "metadata": {
            "tags": []
          }
        },
        {
          "output_type": "stream",
          "text": [
            "Saving BeyondBlue_Data.csv to BeyondBlue_Data.csv\n"
          ],
          "name": "stdout"
        }
      ]
    },
    {
      "cell_type": "code",
      "metadata": {
        "id": "fsyBY8HRgWcZ",
        "outputId": "aaad9033-83cd-4bf1-f3a6-58a6ec1858b8",
        "colab": {
          "base_uri": "https://localhost:8080/",
          "height": 195
        }
      },
      "source": [
        "import pandas as pd\n",
        "\n",
        "data = pd.read_csv(\"BeyondBlue_Data.csv\")\n",
        "\n",
        "data.head(5)"
      ],
      "execution_count": null,
      "outputs": [
        {
          "output_type": "execute_result",
          "data": {
            "text/html": [
              "<div>\n",
              "<style scoped>\n",
              "    .dataframe tbody tr th:only-of-type {\n",
              "        vertical-align: middle;\n",
              "    }\n",
              "\n",
              "    .dataframe tbody tr th {\n",
              "        vertical-align: top;\n",
              "    }\n",
              "\n",
              "    .dataframe thead th {\n",
              "        text-align: right;\n",
              "    }\n",
              "</style>\n",
              "<table border=\"1\" class=\"dataframe\">\n",
              "  <thead>\n",
              "    <tr style=\"text-align: right;\">\n",
              "      <th></th>\n",
              "      <th>text</th>\n",
              "      <th>category</th>\n",
              "    </tr>\n",
              "  </thead>\n",
              "  <tbody>\n",
              "    <tr>\n",
              "      <th>0</th>\n",
              "      <td>\\nhey there, what physical symptoms of anxiety...</td>\n",
              "      <td>Anxiety</td>\n",
              "    </tr>\n",
              "    <tr>\n",
              "      <th>1</th>\n",
              "      <td>\\nThere is a thread under Depression just like...</td>\n",
              "      <td>Anxiety</td>\n",
              "    </tr>\n",
              "    <tr>\n",
              "      <th>2</th>\n",
              "      <td>\\nHi everyone,\\nI would love to hear your stor...</td>\n",
              "      <td>Anxiety</td>\n",
              "    </tr>\n",
              "    <tr>\n",
              "      <th>3</th>\n",
              "      <td>\\nHi Everyone,\\nHere are some ideas for helpin...</td>\n",
              "      <td>Anxiety</td>\n",
              "    </tr>\n",
              "    <tr>\n",
              "      <th>4</th>\n",
              "      <td>\\nHi everyone, particularly any new members wh...</td>\n",
              "      <td>Anxiety</td>\n",
              "    </tr>\n",
              "  </tbody>\n",
              "</table>\n",
              "</div>"
            ],
            "text/plain": [
              "                                                text category\n",
              "0  \\nhey there, what physical symptoms of anxiety...  Anxiety\n",
              "1  \\nThere is a thread under Depression just like...  Anxiety\n",
              "2  \\nHi everyone,\\nI would love to hear your stor...  Anxiety\n",
              "3  \\nHi Everyone,\\nHere are some ideas for helpin...  Anxiety\n",
              "4  \\nHi everyone, particularly any new members wh...  Anxiety"
            ]
          },
          "metadata": {
            "tags": []
          },
          "execution_count": 120
        }
      ]
    },
    {
      "cell_type": "code",
      "metadata": {
        "id": "yweqcGRwRC-r",
        "outputId": "78a6555b-079c-4b1b-df06-42fb6637a77b",
        "colab": {
          "base_uri": "https://localhost:8080/",
          "height": 34
        }
      },
      "source": [
        "from collections import Counter\n",
        "Counter(data_2.loc[:, 'category'])"
      ],
      "execution_count": null,
      "outputs": [
        {
          "output_type": "execute_result",
          "data": {
            "text/plain": [
              "Counter({'Anxiety': 450, 'Depression': 447, 'Grief': 900})"
            ]
          },
          "metadata": {
            "tags": []
          },
          "execution_count": 114
        }
      ]
    },
    {
      "cell_type": "code",
      "metadata": {
        "id": "iDpXfuwbnJgQ",
        "outputId": "ae336ca2-0c46-41d1-b72d-483feeaa14f3",
        "colab": {
          "base_uri": "https://localhost:8080/",
          "height": 202
        }
      },
      "source": [
        "import nltk\n",
        "nltk.download(\"punkt\")\n",
        "nltk.download('stopwords')\n",
        "nltk.download('wordnet')\n",
        "nltk.download('averaged_perceptron_tagger')"
      ],
      "execution_count": null,
      "outputs": [
        {
          "output_type": "stream",
          "text": [
            "[nltk_data] Downloading package punkt to /root/nltk_data...\n",
            "[nltk_data]   Package punkt is already up-to-date!\n",
            "[nltk_data] Downloading package stopwords to /root/nltk_data...\n",
            "[nltk_data]   Package stopwords is already up-to-date!\n",
            "[nltk_data] Downloading package wordnet to /root/nltk_data...\n",
            "[nltk_data]   Package wordnet is already up-to-date!\n",
            "[nltk_data] Downloading package averaged_perceptron_tagger to\n",
            "[nltk_data]     /root/nltk_data...\n",
            "[nltk_data]   Package averaged_perceptron_tagger is already up-to-\n",
            "[nltk_data]       date!\n"
          ],
          "name": "stdout"
        },
        {
          "output_type": "execute_result",
          "data": {
            "text/plain": [
              "True"
            ]
          },
          "metadata": {
            "tags": []
          },
          "execution_count": 115
        }
      ]
    },
    {
      "cell_type": "code",
      "metadata": {
        "id": "Usro5vDYiW_5"
      },
      "source": [
        "import re\n",
        "from nltk.tokenize import word_tokenize\n",
        "\n",
        "contractions = {\n",
        "    \"ve\": \"have\",\n",
        "    \"ll\": \"will\",\n",
        "    \"m\": \"am\",\n",
        "}\n",
        "\n",
        "data[\"text\"] = [re.sub(\"\\n\", \"\", text) for text in data[\"text\"]]\n",
        "data['text'] = [re.sub(\"/\", \" or \", text) for text in data['text']]\n",
        "data['text'] = [re.sub(\"[\\.,']\", \" \", text) for text in data['text']]\n",
        "data['text'] = [' '.join([contractions.get(word, word) for word in word_tokenize(text)]) for text in data['text']]\n",
        "data['text'] = [' '.join([word for word in word_tokenize(text) if word.isalpha()==True]) for text in data['text']]\n",
        "data[\"text\"] = [text.lower() for text in data[\"text\"]]\n",
        "data[\"text\"] = [text.strip() for text in data[\"text\"]]"
      ],
      "execution_count": null,
      "outputs": []
    },
    {
      "cell_type": "code",
      "metadata": {
        "id": "bIgtGjAppTMx"
      },
      "source": [
        "data[\"tokens\"] = [word_tokenize(text) for text in data[\"text\"]]"
      ],
      "execution_count": null,
      "outputs": []
    },
    {
      "cell_type": "code",
      "metadata": {
        "id": "SD9BucqoXm5z"
      },
      "source": [
        "from nltk.corpus import stopwords\n",
        "\n",
        "stopwords_eng = stopwords.words('english')\n",
        "stopwords_eng.remove(\"not\")\n",
        "stopwords_eng += [\"hi\", \"hey\", \"hello\"]\n",
        "\n",
        "data['imp_tokens'] = [[token for token in tokens if token not in stopwords_eng] for tokens in data['tokens']]"
      ],
      "execution_count": null,
      "outputs": []
    },
    {
      "cell_type": "code",
      "metadata": {
        "id": "VXwtT4tyong-",
        "outputId": "86d20ccd-6774-4906-fd68-eda8bb3b31f8",
        "colab": {
          "base_uri": "https://localhost:8080/",
          "height": 494
        }
      },
      "source": [
        "# data = data.sample(frac=1, random_state=10) #shuffling the rows\n",
        "data.head(10)"
      ],
      "execution_count": null,
      "outputs": [
        {
          "output_type": "execute_result",
          "data": {
            "text/html": [
              "<div>\n",
              "<style scoped>\n",
              "    .dataframe tbody tr th:only-of-type {\n",
              "        vertical-align: middle;\n",
              "    }\n",
              "\n",
              "    .dataframe tbody tr th {\n",
              "        vertical-align: top;\n",
              "    }\n",
              "\n",
              "    .dataframe thead th {\n",
              "        text-align: right;\n",
              "    }\n",
              "</style>\n",
              "<table border=\"1\" class=\"dataframe\">\n",
              "  <thead>\n",
              "    <tr style=\"text-align: right;\">\n",
              "      <th></th>\n",
              "      <th>text</th>\n",
              "      <th>category</th>\n",
              "      <th>tokens</th>\n",
              "      <th>imp_tokens</th>\n",
              "    </tr>\n",
              "  </thead>\n",
              "  <tbody>\n",
              "    <tr>\n",
              "      <th>0</th>\n",
              "      <td>hey there what physical symptoms of anxiety do...</td>\n",
              "      <td>Anxiety</td>\n",
              "      <td>[hey, there, what, physical, symptoms, of, anx...</td>\n",
              "      <td>[physical, symptoms, anxiety, experience, ofte...</td>\n",
              "    </tr>\n",
              "    <tr>\n",
              "      <th>1</th>\n",
              "      <td>there is a thread under depression just like t...</td>\n",
              "      <td>Anxiety</td>\n",
              "      <td>[there, is, a, thread, under, depression, just...</td>\n",
              "      <td>[thread, depression, like, thought, not, start...</td>\n",
              "    </tr>\n",
              "    <tr>\n",
              "      <th>2</th>\n",
              "      <td>hi everyone i would love to hear your stories ...</td>\n",
              "      <td>Anxiety</td>\n",
              "      <td>[hi, everyone, i, would, love, to, hear, your,...</td>\n",
              "      <td>[everyone, would, love, hear, stories, overcom...</td>\n",
              "    </tr>\n",
              "    <tr>\n",
              "      <th>3</th>\n",
              "      <td>hi everyone here are some ideas for helping yo...</td>\n",
              "      <td>Anxiety</td>\n",
              "      <td>[hi, everyone, here, are, some, ideas, for, he...</td>\n",
              "      <td>[everyone, ideas, helping, manage, symptoms, a...</td>\n",
              "    </tr>\n",
              "    <tr>\n",
              "      <th>4</th>\n",
              "      <td>hi everyone particularly any new members who m...</td>\n",
              "      <td>Anxiety</td>\n",
              "      <td>[hi, everyone, particularly, any, new, members...</td>\n",
              "      <td>[everyone, particularly, new, members, may, re...</td>\n",
              "    </tr>\n",
              "    <tr>\n",
              "      <th>5</th>\n",
              "      <td>hi there as if that wasn t bad enough i also h...</td>\n",
              "      <td>Anxiety</td>\n",
              "      <td>[hi, there, as, if, that, wasn, t, bad, enough...</td>\n",
              "      <td>[bad, enough, also, mild, cases, intellectual,...</td>\n",
              "    </tr>\n",
              "    <tr>\n",
              "      <th>6</th>\n",
              "      <td>hi guys i have been thinking about writing abo...</td>\n",
              "      <td>Anxiety</td>\n",
              "      <td>[hi, guys, i, have, been, thinking, about, wri...</td>\n",
              "      <td>[guys, thinking, writing, still, nervous, writ...</td>\n",
              "    </tr>\n",
              "    <tr>\n",
              "      <th>7</th>\n",
              "      <td>hi first time posting on here or anywhere for ...</td>\n",
              "      <td>Anxiety</td>\n",
              "      <td>[hi, first, time, posting, on, here, or, anywh...</td>\n",
              "      <td>[first, time, posting, anywhere, matter, stuff...</td>\n",
              "    </tr>\n",
              "    <tr>\n",
              "      <th>8</th>\n",
              "      <td>i posted in a couple of other threads but i de...</td>\n",
              "      <td>Anxiety</td>\n",
              "      <td>[i, posted, in, a, couple, of, other, threads,...</td>\n",
              "      <td>[posted, couple, threads, decided, start, new,...</td>\n",
              "    </tr>\n",
              "    <tr>\n",
              "      <th>9</th>\n",
              "      <td>hey so i actually only find myself at these fo...</td>\n",
              "      <td>Anxiety</td>\n",
              "      <td>[hey, so, i, actually, only, find, myself, at,...</td>\n",
              "      <td>[actually, find, forums, need, comfort, little...</td>\n",
              "    </tr>\n",
              "  </tbody>\n",
              "</table>\n",
              "</div>"
            ],
            "text/plain": [
              "                                                text  ...                                         imp_tokens\n",
              "0  hey there what physical symptoms of anxiety do...  ...  [physical, symptoms, anxiety, experience, ofte...\n",
              "1  there is a thread under depression just like t...  ...  [thread, depression, like, thought, not, start...\n",
              "2  hi everyone i would love to hear your stories ...  ...  [everyone, would, love, hear, stories, overcom...\n",
              "3  hi everyone here are some ideas for helping yo...  ...  [everyone, ideas, helping, manage, symptoms, a...\n",
              "4  hi everyone particularly any new members who m...  ...  [everyone, particularly, new, members, may, re...\n",
              "5  hi there as if that wasn t bad enough i also h...  ...  [bad, enough, also, mild, cases, intellectual,...\n",
              "6  hi guys i have been thinking about writing abo...  ...  [guys, thinking, writing, still, nervous, writ...\n",
              "7  hi first time posting on here or anywhere for ...  ...  [first, time, posting, anywhere, matter, stuff...\n",
              "8  i posted in a couple of other threads but i de...  ...  [posted, couple, threads, decided, start, new,...\n",
              "9  hey so i actually only find myself at these fo...  ...  [actually, find, forums, need, comfort, little...\n",
              "\n",
              "[10 rows x 4 columns]"
            ]
          },
          "metadata": {
            "tags": []
          },
          "execution_count": 124
        }
      ]
    },
    {
      "cell_type": "markdown",
      "metadata": {
        "id": "jovjWmRpsXw7"
      },
      "source": [
        "### Keyword Extraction"
      ]
    },
    {
      "cell_type": "markdown",
      "metadata": {
        "id": "Fcp7E6PqkVfg"
      },
      "source": [
        "#### Tokens based"
      ]
    },
    {
      "cell_type": "code",
      "metadata": {
        "id": "Yx1QJ5ZDYNk_",
        "outputId": "ec22d4f1-fd21-488d-c0af-84fb36575a8e",
        "colab": {
          "base_uri": "https://localhost:8080/",
          "height": 34
        }
      },
      "source": [
        "from wordcloud import WordCloud\n",
        "\n",
        "cloud = WordCloud()\n",
        "\n",
        "grief_string = ''\n",
        "anxiety_string = ''\n",
        "depression_string = ''\n",
        "\n",
        "for tokens, categ in zip(data['imp_tokens'], data['category']):\n",
        "  if categ == 'Grief':\n",
        "    grief_string += ' '.join(tokens)\n",
        "    grief_string += ' '\n",
        "  elif categ == 'Anxiety':\n",
        "    anxiety_string += ' '.join(tokens)\n",
        "    anxiety_string += ' '\n",
        "  else:\n",
        "    depression_string += ' '.join(tokens)\n",
        "    depression_string += ' '\n",
        "\n",
        "cloud.generate(grief_string)\n",
        "cloud.to_file(\"griefCloud_0.png\")\n",
        "\n",
        "cloud.generate(anxiety_string)\n",
        "cloud.to_file(\"anxietyCloud_0.png\")\n",
        "\n",
        "cloud.generate(depression_string)\n",
        "cloud.to_file(\"depressionCloud_0.png\")"
      ],
      "execution_count": null,
      "outputs": [
        {
          "output_type": "execute_result",
          "data": {
            "text/plain": [
              "<wordcloud.wordcloud.WordCloud at 0x7ff670655a20>"
            ]
          },
          "metadata": {
            "tags": []
          },
          "execution_count": 125
        }
      ]
    },
    {
      "cell_type": "markdown",
      "metadata": {
        "id": "pn5HVlyFkZJc"
      },
      "source": [
        "#### Vocabulary"
      ]
    },
    {
      "cell_type": "code",
      "metadata": {
        "id": "VPVgb4MdpU0B"
      },
      "source": [
        "from collections import Counter\n",
        "\n",
        "grief_vocab = Counter()\n",
        "depression_vocab = Counter()\n",
        "anxiety_vocab = Counter()\n",
        "\n",
        "for index, row in data.iterrows():\n",
        "  if(row['category']=='Grief'):\n",
        "    grief_vocab.update(row['imp_tokens'])\n",
        "  elif(row['category']=='Anxiety'):\n",
        "    anxiety_vocab.update(row['imp_tokens'])\n",
        "  else:\n",
        "    depression_vocab.update(row['imp_tokens'])"
      ],
      "execution_count": null,
      "outputs": []
    },
    {
      "cell_type": "markdown",
      "metadata": {
        "id": "hMc7dygBkGcc"
      },
      "source": [
        "##### Non-Disjoint vocabulary"
      ]
    },
    {
      "cell_type": "code",
      "metadata": {
        "id": "ol5Xwb-Lj8Fh",
        "outputId": "6a5c1519-eee1-4497-ce1c-4dbf6318e522",
        "colab": {
          "base_uri": "https://localhost:8080/",
          "height": 34
        }
      },
      "source": [
        "cloud = WordCloud(collocations=False)\n",
        "\n",
        "string = ''\n",
        "for word in grief_vocab.keys():\n",
        "  string += (word + ' ') * grief_vocab[word]\n",
        "\n",
        "cloud.generate(string)\n",
        "cloud.to_file(\"griefCloud_common.png\")"
      ],
      "execution_count": null,
      "outputs": [
        {
          "output_type": "execute_result",
          "data": {
            "text/plain": [
              "<wordcloud.wordcloud.WordCloud at 0x7ff671b49550>"
            ]
          },
          "metadata": {
            "tags": []
          },
          "execution_count": 137
        }
      ]
    },
    {
      "cell_type": "code",
      "metadata": {
        "id": "28dTUptCj8Fu",
        "outputId": "9a37fb65-499a-4a1a-9964-9a607ca1a2fe",
        "colab": {
          "base_uri": "https://localhost:8080/",
          "height": 34
        }
      },
      "source": [
        "string = ''\n",
        "for word in anxiety_vocab.keys():\n",
        "  string += (word + ' ') * anxiety_vocab[word]\n",
        "\n",
        "cloud.generate(string)\n",
        "cloud.to_file(\"anxietyCloud_common.png\")"
      ],
      "execution_count": null,
      "outputs": [
        {
          "output_type": "execute_result",
          "data": {
            "text/plain": [
              "<wordcloud.wordcloud.WordCloud at 0x7ff671b49550>"
            ]
          },
          "metadata": {
            "tags": []
          },
          "execution_count": 138
        }
      ]
    },
    {
      "cell_type": "code",
      "metadata": {
        "id": "SMASijjTj8Fz",
        "outputId": "89096723-d1be-4ecb-ddcf-46df372de86b",
        "colab": {
          "base_uri": "https://localhost:8080/",
          "height": 34
        }
      },
      "source": [
        "string = ''\n",
        "for word in depression_vocab.keys():\n",
        "  string += (word + ' ') * depression_vocab[word]\n",
        "\n",
        "cloud.generate(string)\n",
        "cloud.to_file(\"depressionCloud_common.png\")"
      ],
      "execution_count": null,
      "outputs": [
        {
          "output_type": "execute_result",
          "data": {
            "text/plain": [
              "<wordcloud.wordcloud.WordCloud at 0x7ff671b49550>"
            ]
          },
          "metadata": {
            "tags": []
          },
          "execution_count": 139
        }
      ]
    },
    {
      "cell_type": "markdown",
      "metadata": {
        "id": "-Mt6zyTgkMD1"
      },
      "source": [
        "##### Disjoint Vocabulary"
      ]
    },
    {
      "cell_type": "code",
      "metadata": {
        "id": "iM79DuvyySLg"
      },
      "source": [
        "for word in grief_vocab.keys():\n",
        "  if word in anxiety_vocab.keys() or word in depression_vocab.keys():\n",
        "    grief_vocab[word] = 0\n",
        "\n",
        "for word in depression_vocab.keys():\n",
        "  if word in anxiety_vocab.keys() or word in grief_vocab.keys():\n",
        "    depression_vocab[word] = 0\n",
        "\n",
        "for word in anxiety_vocab.keys():\n",
        "  if word in grief_vocab.keys() or word in depression_vocab.keys():\n",
        "    anxiety_vocab[word] = 0"
      ],
      "execution_count": null,
      "outputs": []
    },
    {
      "cell_type": "code",
      "metadata": {
        "id": "-AK3l1fVjWPq",
        "outputId": "0e6d7e14-dbf8-47b1-ab11-6138251b945d",
        "colab": {
          "base_uri": "https://localhost:8080/",
          "height": 34
        }
      },
      "source": [
        "string = ''\n",
        "for word in grief_vocab.keys():\n",
        "  string += (word + ' ') * grief_vocab[word]\n",
        "\n",
        "cloud.generate(string)\n",
        "cloud.to_file(\"griefCloud.png\")"
      ],
      "execution_count": null,
      "outputs": [
        {
          "output_type": "execute_result",
          "data": {
            "text/plain": [
              "<wordcloud.wordcloud.WordCloud at 0x7ff671b49550>"
            ]
          },
          "metadata": {
            "tags": []
          },
          "execution_count": 141
        }
      ]
    },
    {
      "cell_type": "code",
      "metadata": {
        "id": "4PYNRaaTKZJw",
        "outputId": "0bfa7f8e-5569-435f-f439-d3dde34d224e",
        "colab": {
          "base_uri": "https://localhost:8080/",
          "height": 305
        }
      },
      "source": [
        "import matplotlib.pyplot as plt\n",
        "\n",
        "plot_data = dict(grief_vocab.most_common(20))\n",
        "plt.figure(figsize = (20,5))\n",
        "plt.bar(plot_data.keys(), plot_data.values())\n",
        "plt.xticks(rotation=45)\n",
        "plt.show()"
      ],
      "execution_count": null,
      "outputs": [
        {
          "output_type": "display_data",
          "data": {
            "image/png": "[encoded data removed]",
            "text/plain": [
              "<Figure size 1440x360 with 1 Axes>"
            ]
          },
          "metadata": {
            "tags": [],
            "needs_background": "light"
          }
        }
      ]
    },
    {
      "cell_type": "code",
      "metadata": {
        "id": "gCvfVx6XYrkl",
        "outputId": "eab2c3d2-2275-48c0-bce0-1bd38c07becb",
        "colab": {
          "base_uri": "https://localhost:8080/",
          "height": 34
        }
      },
      "source": [
        "string = ''\n",
        "for word in anxiety_vocab.keys():\n",
        "  string += (word + ' ') * anxiety_vocab[word]\n",
        "\n",
        "cloud.generate(string)\n",
        "cloud.to_file(\"anxietyCloud.png\")"
      ],
      "execution_count": null,
      "outputs": [
        {
          "output_type": "execute_result",
          "data": {
            "text/plain": [
              "<wordcloud.wordcloud.WordCloud at 0x7ff671b49550>"
            ]
          },
          "metadata": {
            "tags": []
          },
          "execution_count": 143
        }
      ]
    },
    {
      "cell_type": "code",
      "metadata": {
        "id": "41nGiGUfKjNt",
        "outputId": "8ac89ad4-d7a8-4bd4-ea77-3243f540c824",
        "colab": {
          "base_uri": "https://localhost:8080/",
          "height": 302
        }
      },
      "source": [
        "plot_data = dict(anxiety_vocab.most_common(20))\n",
        "\n",
        "plt.figure(figsize = (20, 5))\n",
        "plt.bar(plot_data.keys(), plot_data.values())\n",
        "plt.xticks(rotation=45)\n",
        "plt.show()"
      ],
      "execution_count": null,
      "outputs": [
        {
          "output_type": "display_data",
          "data": {
            "image/png": "[encoded data removed]",
            "text/plain": [
              "<Figure size 1440x360 with 1 Axes>"
            ]
          },
          "metadata": {
            "tags": [],
            "needs_background": "light"
          }
        }
      ]
    },
    {
      "cell_type": "code",
      "metadata": {
        "id": "Syp6RmE3caUk",
        "outputId": "c36d881e-8f6c-4676-8783-435272fb53e7",
        "colab": {
          "base_uri": "https://localhost:8080/",
          "height": 34
        }
      },
      "source": [
        "string = ''\n",
        "for word in depression_vocab.keys():\n",
        "  string += (word + ' ') * depression_vocab[word]\n",
        "\n",
        "cloud.generate(string)\n",
        "cloud.to_file(\"depressionCloud.png\")"
      ],
      "execution_count": null,
      "outputs": [
        {
          "output_type": "execute_result",
          "data": {
            "text/plain": [
              "<wordcloud.wordcloud.WordCloud at 0x7ff671b49550>"
            ]
          },
          "metadata": {
            "tags": []
          },
          "execution_count": 145
        }
      ]
    },
    {
      "cell_type": "code",
      "metadata": {
        "id": "JgWzrhWNKkZt",
        "outputId": "a3117b8a-4f30-4909-b68b-65fa82dc3aad",
        "colab": {
          "base_uri": "https://localhost:8080/",
          "height": 306
        }
      },
      "source": [
        "plot_data = dict(depression_vocab.most_common(20))\n",
        "\n",
        "plt.figure(figsize = (20, 5))\n",
        "plt.bar(plot_data.keys(), plot_data.values())\n",
        "plt.xticks(rotation=45)\n",
        "plt.show()"
      ],
      "execution_count": null,
      "outputs": [
        {
          "output_type": "display_data",
          "data": {
            "image/png": "[encoded data removed]",
            "text/plain": [
              "<Figure size 1440x360 with 1 Axes>"
            ]
          },
          "metadata": {
            "tags": [],
            "needs_background": "light"
          }
        }
      ]
    },
    {
      "cell_type": "markdown",
      "metadata": {
        "id": "rJ7w7kNGsgZZ"
      },
      "source": [
        "### Sentiment Analysis"
      ]
    },
    {
      "cell_type": "markdown",
      "metadata": {
        "id": "xI1jRZnQu2s-"
      },
      "source": [
        "#### Naive Bayes"
      ]
    },
    {
      "cell_type": "code",
      "metadata": {
        "id": "2hD28i-4jlrT",
        "outputId": "e78ec2c8-54e4-4c11-e362-3d95b856831b",
        "colab": {
          "base_uri": "https://localhost:8080/",
          "height": 279
        }
      },
      "source": [
        "category = {'Grief': 0, 'Anxiety': 1, 'Depression': 2}\n",
        "data[\"category\"] = [category.get(categ) for categ in data['category']]\n",
        "\n",
        "data.head(5)"
      ],
      "execution_count": null,
      "outputs": [
        {
          "output_type": "execute_result",
          "data": {
            "text/html": [
              "<div>\n",
              "<style scoped>\n",
              "    .dataframe tbody tr th:only-of-type {\n",
              "        vertical-align: middle;\n",
              "    }\n",
              "\n",
              "    .dataframe tbody tr th {\n",
              "        vertical-align: top;\n",
              "    }\n",
              "\n",
              "    .dataframe thead th {\n",
              "        text-align: right;\n",
              "    }\n",
              "</style>\n",
              "<table border=\"1\" class=\"dataframe\">\n",
              "  <thead>\n",
              "    <tr style=\"text-align: right;\">\n",
              "      <th></th>\n",
              "      <th>text</th>\n",
              "      <th>category</th>\n",
              "      <th>tokens</th>\n",
              "      <th>imp_tokens</th>\n",
              "    </tr>\n",
              "  </thead>\n",
              "  <tbody>\n",
              "    <tr>\n",
              "      <th>0</th>\n",
              "      <td>hey there what physical symptoms of anxiety do...</td>\n",
              "      <td>1</td>\n",
              "      <td>[hey, there, what, physical, symptoms, of, anx...</td>\n",
              "      <td>[physical, symptoms, anxiety, experience, ofte...</td>\n",
              "    </tr>\n",
              "    <tr>\n",
              "      <th>1</th>\n",
              "      <td>there is a thread under depression just like t...</td>\n",
              "      <td>1</td>\n",
              "      <td>[there, is, a, thread, under, depression, just...</td>\n",
              "      <td>[thread, depression, like, thought, not, start...</td>\n",
              "    </tr>\n",
              "    <tr>\n",
              "      <th>2</th>\n",
              "      <td>hi everyone i would love to hear your stories ...</td>\n",
              "      <td>1</td>\n",
              "      <td>[hi, everyone, i, would, love, to, hear, your,...</td>\n",
              "      <td>[everyone, would, love, hear, stories, overcom...</td>\n",
              "    </tr>\n",
              "    <tr>\n",
              "      <th>3</th>\n",
              "      <td>hi everyone here are some ideas for helping yo...</td>\n",
              "      <td>1</td>\n",
              "      <td>[hi, everyone, here, are, some, ideas, for, he...</td>\n",
              "      <td>[everyone, ideas, helping, manage, symptoms, a...</td>\n",
              "    </tr>\n",
              "    <tr>\n",
              "      <th>4</th>\n",
              "      <td>hi everyone particularly any new members who m...</td>\n",
              "      <td>1</td>\n",
              "      <td>[hi, everyone, particularly, any, new, members...</td>\n",
              "      <td>[everyone, particularly, new, members, may, re...</td>\n",
              "    </tr>\n",
              "  </tbody>\n",
              "</table>\n",
              "</div>"
            ],
            "text/plain": [
              "                                                text  ...                                         imp_tokens\n",
              "0  hey there what physical symptoms of anxiety do...  ...  [physical, symptoms, anxiety, experience, ofte...\n",
              "1  there is a thread under depression just like t...  ...  [thread, depression, like, thought, not, start...\n",
              "2  hi everyone i would love to hear your stories ...  ...  [everyone, would, love, hear, stories, overcom...\n",
              "3  hi everyone here are some ideas for helping yo...  ...  [everyone, ideas, helping, manage, symptoms, a...\n",
              "4  hi everyone particularly any new members who m...  ...  [everyone, particularly, new, members, may, re...\n",
              "\n",
              "[5 rows x 4 columns]"
            ]
          },
          "metadata": {
            "tags": []
          },
          "execution_count": 147
        }
      ]
    },
    {
      "cell_type": "code",
      "metadata": {
        "id": "j8-sAB1MUNSV"
      },
      "source": [
        "from nltk.stem.wordnet import WordNetLemmatizer\n",
        "from nltk.tag import pos_tag\n",
        "\n",
        "lemmatizer = WordNetLemmatizer()\n",
        "lemmas = []\n",
        "for tokens in data['imp_tokens']:\n",
        "  temp = []\n",
        "  for token, pos in pos_tag(tokens):\n",
        "    if pos.startswith('NN'):\n",
        "      pos = 'n'\n",
        "    elif pos.startswith('VB'):\n",
        "      pos = 'v'\n",
        "    else:\n",
        "      pos = 'a'\n",
        "    temp.append(lemmatizer.lemmatize(token, pos))\n",
        "  lemmas.append(temp)\n",
        "\n",
        "data['lemmas'] = lemmas"
      ],
      "execution_count": null,
      "outputs": []
    },
    {
      "cell_type": "code",
      "metadata": {
        "id": "F24ilS4yVraT",
        "outputId": "e2d7da8f-9809-4cba-a714-44b06ed28228",
        "colab": {
          "base_uri": "https://localhost:8080/",
          "height": 511
        }
      },
      "source": [
        "data.head(10)"
      ],
      "execution_count": null,
      "outputs": [
        {
          "output_type": "execute_result",
          "data": {
            "text/html": [
              "<div>\n",
              "<style scoped>\n",
              "    .dataframe tbody tr th:only-of-type {\n",
              "        vertical-align: middle;\n",
              "    }\n",
              "\n",
              "    .dataframe tbody tr th {\n",
              "        vertical-align: top;\n",
              "    }\n",
              "\n",
              "    .dataframe thead th {\n",
              "        text-align: right;\n",
              "    }\n",
              "</style>\n",
              "<table border=\"1\" class=\"dataframe\">\n",
              "  <thead>\n",
              "    <tr style=\"text-align: right;\">\n",
              "      <th></th>\n",
              "      <th>text</th>\n",
              "      <th>category</th>\n",
              "      <th>tokens</th>\n",
              "      <th>imp_tokens</th>\n",
              "      <th>lemmas</th>\n",
              "    </tr>\n",
              "  </thead>\n",
              "  <tbody>\n",
              "    <tr>\n",
              "      <th>0</th>\n",
              "      <td>hey there what physical symptoms of anxiety do...</td>\n",
              "      <td>1</td>\n",
              "      <td>[hey, there, what, physical, symptoms, of, anx...</td>\n",
              "      <td>[physical, symptoms, anxiety, experience, ofte...</td>\n",
              "      <td>[physical, symptom, anxiety, experience, often...</td>\n",
              "    </tr>\n",
              "    <tr>\n",
              "      <th>1</th>\n",
              "      <td>there is a thread under depression just like t...</td>\n",
              "      <td>1</td>\n",
              "      <td>[there, is, a, thread, under, depression, just...</td>\n",
              "      <td>[thread, depression, like, thought, not, start...</td>\n",
              "      <td>[thread, depression, like, thought, not, start...</td>\n",
              "    </tr>\n",
              "    <tr>\n",
              "      <th>2</th>\n",
              "      <td>hi everyone i would love to hear your stories ...</td>\n",
              "      <td>1</td>\n",
              "      <td>[hi, everyone, i, would, love, to, hear, your,...</td>\n",
              "      <td>[everyone, would, love, hear, stories, overcom...</td>\n",
              "      <td>[everyone, would, love, hear, story, overcome,...</td>\n",
              "    </tr>\n",
              "    <tr>\n",
              "      <th>3</th>\n",
              "      <td>hi everyone here are some ideas for helping yo...</td>\n",
              "      <td>1</td>\n",
              "      <td>[hi, everyone, here, are, some, ideas, for, he...</td>\n",
              "      <td>[everyone, ideas, helping, manage, symptoms, a...</td>\n",
              "      <td>[everyone, idea, help, manage, symptom, anxiet...</td>\n",
              "    </tr>\n",
              "    <tr>\n",
              "      <th>4</th>\n",
              "      <td>hi everyone particularly any new members who m...</td>\n",
              "      <td>1</td>\n",
              "      <td>[hi, everyone, particularly, any, new, members...</td>\n",
              "      <td>[everyone, particularly, new, members, may, re...</td>\n",
              "      <td>[everyone, particularly, new, member, may, rea...</td>\n",
              "    </tr>\n",
              "    <tr>\n",
              "      <th>5</th>\n",
              "      <td>hi there as if that wasn t bad enough i also h...</td>\n",
              "      <td>1</td>\n",
              "      <td>[hi, there, as, if, that, wasn, t, bad, enough...</td>\n",
              "      <td>[bad, enough, also, mild, cases, intellectual,...</td>\n",
              "      <td>[bad, enough, also, mild, case, intellectual, ...</td>\n",
              "    </tr>\n",
              "    <tr>\n",
              "      <th>6</th>\n",
              "      <td>hi guys i have been thinking about writing abo...</td>\n",
              "      <td>1</td>\n",
              "      <td>[hi, guys, i, have, been, thinking, about, wri...</td>\n",
              "      <td>[guys, thinking, writing, still, nervous, writ...</td>\n",
              "      <td>[guy, think, write, still, nervous, write, fig...</td>\n",
              "    </tr>\n",
              "    <tr>\n",
              "      <th>7</th>\n",
              "      <td>hi first time posting on here or anywhere for ...</td>\n",
              "      <td>1</td>\n",
              "      <td>[hi, first, time, posting, on, here, or, anywh...</td>\n",
              "      <td>[first, time, posting, anywhere, matter, stuff...</td>\n",
              "      <td>[first, time, post, anywhere, matter, stuff, o...</td>\n",
              "    </tr>\n",
              "    <tr>\n",
              "      <th>8</th>\n",
              "      <td>i posted in a couple of other threads but i de...</td>\n",
              "      <td>1</td>\n",
              "      <td>[i, posted, in, a, couple, of, other, threads,...</td>\n",
              "      <td>[posted, couple, threads, decided, start, new,...</td>\n",
              "      <td>[post, couple, thread, decide, start, new, one...</td>\n",
              "    </tr>\n",
              "    <tr>\n",
              "      <th>9</th>\n",
              "      <td>hey so i actually only find myself at these fo...</td>\n",
              "      <td>1</td>\n",
              "      <td>[hey, so, i, actually, only, find, myself, at,...</td>\n",
              "      <td>[actually, find, forums, need, comfort, little...</td>\n",
              "      <td>[actually, find, forums, need, comfort, little...</td>\n",
              "    </tr>\n",
              "  </tbody>\n",
              "</table>\n",
              "</div>"
            ],
            "text/plain": [
              "                                                text  ...                                             lemmas\n",
              "0  hey there what physical symptoms of anxiety do...  ...  [physical, symptom, anxiety, experience, often...\n",
              "1  there is a thread under depression just like t...  ...  [thread, depression, like, thought, not, start...\n",
              "2  hi everyone i would love to hear your stories ...  ...  [everyone, would, love, hear, story, overcome,...\n",
              "3  hi everyone here are some ideas for helping yo...  ...  [everyone, idea, help, manage, symptom, anxiet...\n",
              "4  hi everyone particularly any new members who m...  ...  [everyone, particularly, new, member, may, rea...\n",
              "5  hi there as if that wasn t bad enough i also h...  ...  [bad, enough, also, mild, case, intellectual, ...\n",
              "6  hi guys i have been thinking about writing abo...  ...  [guy, think, write, still, nervous, write, fig...\n",
              "7  hi first time posting on here or anywhere for ...  ...  [first, time, post, anywhere, matter, stuff, o...\n",
              "8  i posted in a couple of other threads but i de...  ...  [post, couple, thread, decide, start, new, one...\n",
              "9  hey so i actually only find myself at these fo...  ...  [actually, find, forums, need, comfort, little...\n",
              "\n",
              "[10 rows x 5 columns]"
            ]
          },
          "metadata": {
            "tags": []
          },
          "execution_count": 151
        }
      ]
    },
    {
      "cell_type": "code",
      "metadata": {
        "id": "v2WH-oJEV7V7"
      },
      "source": [
        "dataset = []\n",
        "for tokens, categ in zip(data['lemmas'], data['category']):\n",
        "  temp = {token: True for token in tokens}\n",
        "  dataset.append((temp, categ))\n",
        "train_data = dataset[:int(len(dataset)*0.7)]\n",
        "test_data = dataset[int(len(dataset)*0.7):]"
      ],
      "execution_count": null,
      "outputs": []
    },
    {
      "cell_type": "code",
      "metadata": {
        "id": "IB7gLMMoXt9w",
        "outputId": "0717d3c5-f2cb-40e9-fe0c-ab2cd60bf6d0",
        "colab": {
          "base_uri": "https://localhost:8080/",
          "height": 403
        }
      },
      "source": [
        "from nltk import classify\n",
        "from nltk import NaiveBayesClassifier\n",
        "classifier = NaiveBayesClassifier.train(train_data)\n",
        "\n",
        "print(\"Accuracy is:\", classify.accuracy(classifier, test_data))\n",
        "\n",
        "print(classifier.show_most_informative_features(20))"
      ],
      "execution_count": null,
      "outputs": [
        {
          "output_type": "stream",
          "text": [
            "Accuracy is: 0.9537037037037037\n",
            "Most Informative Features\n",
            "                   grief = True                0 : 1      =     67.9 : 1.0\n",
            "                 funeral = True                0 : 1      =     32.1 : 1.0\n",
            "                  grieve = True                0 : 2      =     25.1 : 1.0\n",
            "                 goodbye = True                0 : 1      =     19.6 : 1.0\n",
            "               devastate = True                0 : 1      =     17.9 : 1.0\n",
            "                 breathe = True                1 : 2      =     16.9 : 1.0\n",
            "                     ocd = True                1 : 0      =     15.7 : 1.0\n",
            "                  cancer = True                0 : 2      =     15.5 : 1.0\n",
            "                   death = True                0 : 2      =     13.8 : 1.0\n",
            "                    loss = True                0 : 2      =     13.7 : 1.0\n",
            "                 suicide = True                0 : 1      =     13.5 : 1.0\n",
            "              unexpected = True                0 : 1      =     12.9 : 1.0\n",
            "                 sibling = True                0 : 1      =     12.9 : 1.0\n",
            "                    harm = True                2 : 1      =     12.4 : 1.0\n",
            "                   tight = True                1 : 2      =     11.6 : 1.0\n",
            "                    died = True                0 : 2      =     11.2 : 1.0\n",
            "                  muscle = True                1 : 2      =     10.9 : 1.0\n",
            "                interest = True                2 : 0      =     10.5 : 1.0\n",
            "               ambulance = True                0 : 2      =     10.3 : 1.0\n",
            "               christmas = True                0 : 2      =     10.3 : 1.0\n",
            "None\n"
          ],
          "name": "stdout"
        }
      ]
    }
  ]
}